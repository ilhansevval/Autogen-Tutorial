{
  "cells": [
    {
      "cell_type": "code",
      "execution_count": null,
      "metadata": {
        "id": "wKVdPgnshMvj"
      },
      "outputs": [],
      "source": [
        "%%capture\n",
        "!pip install pyautogen==0.2.0b5"
      ]
    },
    {
      "cell_type": "code",
      "execution_count": null,
      "metadata": {
        "id": "EmstiskphUoY"
      },
      "outputs": [],
      "source": [
        "import os\n",
        "os.environ[\"OPENAI_API_KEY\"] = \"secret_key\""
      ]
    },
    {
      "cell_type": "code",
      "execution_count": null,
      "metadata": {
        "id": "CAutXz4yhY2R"
      },
      "outputs": [],
      "source": [
        "import autogen\n",
        "from autogen.agentchat.contrib.gpt_assistant_agent import GPTAssistantAgent\n",
        "import openai\n",
        "import yfinance as yf"
      ]
    },
    {
      "cell_type": "code",
      "execution_count": null,
      "metadata": {
        "id": "g7NwM8CkhbE5"
      },
      "outputs": [],
      "source": [
        "def get_stock_price(symbol: str) -> float:\n",
        "    stock = yf.Ticker(symbol)\n",
        "    price = stock.history(period=\"1d\")['Close'].iloc[-1]\n",
        "    return price"
      ]
    },
    {
      "cell_type": "code",
      "execution_count": null,
      "metadata": {
        "id": "BQCHTMyqhe9F"
      },
      "outputs": [],
      "source": [
        "tools_list = [{\n",
        "    \"type\": \"function\",\n",
        "    \"function\": {\n",
        "        \"name\": \"get_stock_price\",\n",
        "        \"description\": \"Retrieve the latest closing price of a stock using its ticker symbol\",\n",
        "        \"parameters\": {\n",
        "            \"type\": \"object\",\n",
        "            \"properties\": {\n",
        "                \"symbol\": {\n",
        "                    \"type\": \"string\",\n",
        "                    \"description\": \"The ticker symbol of the stock\"\n",
        "                }\n",
        "            },\n",
        "            \"required\": [\"symbol\"]\n",
        "        }\n",
        "    }\n",
        "}]"
      ]
    },
    {
      "cell_type": "code",
      "execution_count": null,
      "metadata": {
        "id": "B8k_jXN8hziv"
      },
      "outputs": [],
      "source": [
        "config_list = [\n",
        "    {\n",
        "        \"model\" : \"gpt-4-1106-preview\",\n",
        "        \"api_key\" : \"secret_key\"\n",
        "    },\n",
        "    {\n",
        "        \"model\" : \"gpt-4-vision-preview\",\n",
        "        \"api_key\" : \"secret_key\"\n",
        "    }\n",
        "]"
      ]
    },
    {
      "cell_type": "code",
      "execution_count": null,
      "metadata": {
        "id": "xCfTjvd8hj8R"
      },
      "outputs": [],
      "source": [
        "llm_config = {\n",
        "    \"tools\": tools_list,\n",
        "    \"config_list\" : config_list\n",
        "}"
      ]
    },
    {
      "cell_type": "code",
      "execution_count": null,
      "metadata": {
        "colab": {
          "base_uri": "https://localhost:8080/"
        },
        "id": "n8-g2Dpghm0h",
        "outputId": "373dba8c-9b19-42f1-d80a-857df9e983e8"
      },
      "outputs": [
        {
          "name": "stderr",
          "output_type": "stream",
          "text": [
            "WARNING:autogen.agentchat.contrib.gpt_assistant_agent:GPT Assistant only supports one OpenAI client. Using the first client in the list.\n",
            "WARNING:autogen.agentchat.contrib.gpt_assistant_agent:assistant_id was None, creating a new assistant\n"
          ]
        }
      ],
      "source": [
        "gpt_assistant = GPTAssistantAgent(\n",
        "    name=\"Stock Assistant\",\n",
        "    instructions=\"\"\"\n",
        "    You are a Stock Expert.\n",
        "    Reply TERMINATE when the task is solved and there is no problem\n",
        "    \"\"\",\n",
        "    llm_config=llm_config\n",
        ")"
      ]
    },
    {
      "cell_type": "code",
      "execution_count": null,
      "metadata": {
        "id": "xd0WF70FhrFh"
      },
      "outputs": [],
      "source": [
        "gpt_assistant.register_function(\n",
        "    function_map={\n",
        "        \"get_stock_price\": get_stock_price,\n",
        "    }\n",
        ")"
      ]
    },
    {
      "cell_type": "code",
      "execution_count": null,
      "metadata": {
        "id": "_ZJ8iNUChttn"
      },
      "outputs": [],
      "source": [
        "user_proxy = autogen.UserProxyAgent(\n",
        "    name=\"MervinPraison\",\n",
        "    code_execution_config={\n",
        "        \"work_dir\" : \"coding\",\n",
        "    }\n",
        ")"
      ]
    },
    {
      "cell_type": "code",
      "execution_count": null,
      "metadata": {
        "colab": {
          "base_uri": "https://localhost:8080/"
        },
        "id": "kk-GQ1N0hGBp",
        "outputId": "5b962dab-30c7-4572-c92e-c461d4102a7e"
      },
      "outputs": [
        {
          "name": "stdout",
          "output_type": "stream",
          "text": [
            "MervinPraison (to Stock Assistant):\n",
            "\n",
            "\n",
            "    What is the stock price of Apple?\n",
            "    \n",
            "\n",
            "--------------------------------------------------------------------------------\n",
            "\n",
            ">>>>>>>> EXECUTING FUNCTION get_stock_price...\n"
          ]
        },
        {
          "name": "stderr",
          "output_type": "stream",
          "text": [
            "INFO:autogen.agentchat.contrib.gpt_assistant_agent:Intermediate executing(get_stock_price, Sucess: True) : 189.7100067138672\n"
          ]
        },
        {
          "name": "stdout",
          "output_type": "stream",
          "text": [
            "Stock Assistant (to MervinPraison):\n",
            "\n",
            "The current stock price of Apple (AAPL) is $189.71. \n",
            "TERMINATE\n",
            "\n",
            "\n",
            "--------------------------------------------------------------------------------\n",
            "Provide feedback to Stock Assistant. Press enter to skip and use auto-reply, or type 'exit' to end the conversation: exit\n"
          ]
        }
      ],
      "source": [
        "user_proxy.initiate_chat(\n",
        "    gpt_assistant,\n",
        "    message=\"\"\"\n",
        "    What is the stock price of Apple?\n",
        "    \"\"\"\n",
        ")"
      ]
    }
  ],
  "metadata": {
    "colab": {
      "provenance": []
    },
    "kernelspec": {
      "display_name": "Python 3",
      "name": "python3"
    },
    "language_info": {
      "name": "python"
    }
  },
  "nbformat": 4,
  "nbformat_minor": 0
}
