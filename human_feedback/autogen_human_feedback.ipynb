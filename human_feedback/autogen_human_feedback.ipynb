{
  "nbformat": 4,
  "nbformat_minor": 0,
  "metadata": {
    "colab": {
      "provenance": []
    },
    "kernelspec": {
      "name": "python3",
      "display_name": "Python 3"
    },
    "language_info": {
      "name": "python"
    }
  },
  "cells": [
    {
      "cell_type": "markdown",
      "source": [
        "## **Install Autogen Package**"
      ],
      "metadata": {
        "id": "Mrs87yRbCbV3"
      }
    },
    {
      "cell_type": "code",
      "execution_count": 1,
      "metadata": {
        "id": "0GC1ExkJCVwD"
      },
      "outputs": [],
      "source": [
        "%%capture\n",
        "!pip install pyautogen"
      ]
    },
    {
      "cell_type": "markdown",
      "source": [
        "## **Import Autogen**"
      ],
      "metadata": {
        "id": "L1RCNWByCiWu"
      }
    },
    {
      "cell_type": "code",
      "source": [
        "import autogen"
      ],
      "metadata": {
        "id": "xy1TbHzGChTz"
      },
      "execution_count": 2,
      "outputs": []
    },
    {
      "cell_type": "markdown",
      "source": [
        "## **Create a Config List**"
      ],
      "metadata": {
        "id": "x_QVlCVGCmwv"
      }
    },
    {
      "cell_type": "code",
      "source": [
        "config_list = [\n",
        "    {\n",
        "        \"model\" : \"gpt-4-1106-preview\",\n",
        "        \"api_key\" : \"secret_key\"\n",
        "    }\n",
        "]"
      ],
      "metadata": {
        "id": "9Yvs32paCl0H"
      },
      "execution_count": 3,
      "outputs": []
    },
    {
      "cell_type": "markdown",
      "source": [
        "## **llm configuration**"
      ],
      "metadata": {
        "id": "ivkWMnDpCyVH"
      }
    },
    {
      "cell_type": "code",
      "source": [
        "\n",
        "llm_config = {\n",
        "    \"seed\": 42,\n",
        "    \"config_list\": config_list, # a list of OpenAI API configurations\n",
        "    \"temperature\": 0 #temperature -> sampling\n",
        "}"
      ],
      "metadata": {
        "id": "MfutctaLCq3N"
      },
      "execution_count": 4,
      "outputs": []
    },
    {
      "cell_type": "markdown",
      "source": [
        "## **Define Assistant**"
      ],
      "metadata": {
        "id": "f1Y-M0XfC9Gz"
      }
    },
    {
      "cell_type": "code",
      "source": [
        "assistant = autogen.AssistantAgent(\n",
        "    name = \"coder\",\n",
        "    llm_config = llm_config)"
      ],
      "metadata": {
        "id": "eEdWgSdvC4Dg"
      },
      "execution_count": 5,
      "outputs": []
    },
    {
      "cell_type": "markdown",
      "source": [
        "## **Create User Proxy**"
      ],
      "metadata": {
        "id": "ZAqXFl3xDIoz"
      }
    },
    {
      "cell_type": "code",
      "source": [
        "termination_message = lambda x: x.get(\"content\", \"\").rstrip().endswith(\"TERMINATE\")"
      ],
      "metadata": {
        "id": "k1p_cTgRDPa7"
      },
      "execution_count": 6,
      "outputs": []
    },
    {
      "cell_type": "code",
      "source": [
        "user_proxy = autogen.UserProxyAgent(\n",
        "    name = \"user_proxy\",\n",
        "    human_input_mode= \"ALWAYS\",\n",
        "    max_consecutive_auto_reply=10,\n",
        "    is_termination_msg=termination_message,\n",
        "    llm_config=llm_config,\n",
        "    code_execution_config={\n",
        "        \"work_dir\": \"coding\",\n",
        "        \"use_docker\": False,\n",
        "    },\n",
        "   system_message = \"Reply TERMINATE if the task has been solved for your full satisfaction. Or reply CONTINUE if the task is not solved yet\")"
      ],
      "metadata": {
        "id": "2lKLFVMaDFHg"
      },
      "execution_count": 7,
      "outputs": []
    },
    {
      "cell_type": "markdown",
      "source": [
        "## **Logging the Conversation History**"
      ],
      "metadata": {
        "id": "4qjtD0dgD0CJ"
      }
    },
    {
      "cell_type": "code",
      "source": [
        "autogen.ChatCompletion.start_logging()"
      ],
      "metadata": {
        "id": "iiBGH8YGD5uX"
      },
      "execution_count": 8,
      "outputs": []
    },
    {
      "cell_type": "markdown",
      "source": [
        "## **Math Problem to Solve**"
      ],
      "metadata": {
        "id": "S3wAwnaaHk2S"
      }
    },
    {
      "cell_type": "code",
      "source": [
        "math_problem_to_solve = \"\"\"\n",
        "Find $a + b +c$, given that $x + y \\\\neq -1$ and\n",
        "\\\\begin{align}\n",
        "  ax + by + c & = x + 7,\\\\\n",
        "  a + bx + cy & = 2x + 6y,\\\\\n",
        "  ay + b + cx & = 4x + y.\n",
        "\\\\end{align}.\n",
        "\"\"\""
      ],
      "metadata": {
        "id": "xT6ZI-J8EDUU"
      },
      "execution_count": 9,
      "outputs": []
    },
    {
      "cell_type": "markdown",
      "source": [
        "## **Execute the Chat**"
      ],
      "metadata": {
        "id": "NSxCo1GMHpfc"
      }
    },
    {
      "cell_type": "code",
      "source": [
        "user_proxy.initiate_chat(\n",
        "    assistant,\n",
        "    message = math_problem_to_solve)"
      ],
      "metadata": {
        "colab": {
          "base_uri": "https://localhost:8080/"
        },
        "id": "bhZSaIgIEwjG",
        "outputId": "3ba654b9-fa7a-45d0-e08e-c121a3c59545"
      },
      "execution_count": 10,
      "outputs": [
        {
          "output_type": "stream",
          "name": "stdout",
          "text": [
            "user_proxy (to coder):\n",
            "\n",
            "\n",
            "Find $a + b +c$, given that $x + y \\neq -1$ and \n",
            "\\begin{align}\n",
            "  ax + by + c & = x + 7,\\\n",
            "  a + bx + cy & = 2x + 6y,\\\n",
            "  ay + b + cx & = 4x + y.\n",
            "\\end{align}.\n",
            "\n",
            "\n",
            "--------------------------------------------------------------------------------\n",
            "coder (to user_proxy):\n",
            "\n",
            "To find the values of $a$, $b$, and $c$, we can solve the system of equations given. We can treat each equation as a linear equation in terms of $a$, $b$, and $c$ by comparing coefficients. Let's set up the equations in a matrix form and solve for $a$, $b$, and $c$ using Python's NumPy library, which has functions for solving linear equations.\n",
            "\n",
            "Here's the plan:\n",
            "1. Write down the system of equations in matrix form, $AX = B$, where $A$ is the matrix of coefficients, $X$ is the column vector of variables $(a, b, c)$, and $B$ is the column vector of constants.\n",
            "2. Use NumPy to solve for $X$.\n",
            "3. Sum the values of $a$, $b$, and $c$ to find $a + b + c$.\n",
            "\n",
            "Let's execute this plan with Python code:\n",
            "\n",
            "```python\n",
            "# filename: solve_linear_system.py\n",
            "import numpy as np\n",
            "\n",
            "# Coefficients matrix A\n",
            "A = np.array([\n",
            "    [1, 0, 1],  # Coefficients for a, b, c in the first equation\n",
            "    [1, 1, 0],  # Coefficients for a, b, c in the second equation\n",
            "    [0, 1, 1]   # Coefficients for a, b, c in the third equation\n",
            "])\n",
            "\n",
            "# Constants vector B\n",
            "B = np.array([1, 2, 4])  # Constants from the right side of the equations\n",
            "\n",
            "# Solve for X (variables a, b, c)\n",
            "X = np.linalg.solve(A, B)\n",
            "\n",
            "# Calculate the sum of a, b, and c\n",
            "sum_abc = np.sum(X)\n",
            "\n",
            "# Output the result\n",
            "print(f\"The sum of a, b, and c is: {sum_abc}\")\n",
            "```\n",
            "\n",
            "Please save the above code in a file named `solve_linear_system.py` and run it to find the sum of $a$, $b$, and $c$.\n",
            "\n",
            "--------------------------------------------------------------------------------\n",
            "\n",
            ">>>>>>>> EXECUTING CODE BLOCK 0 (inferred language is python)...\n",
            "user_proxy (to coder):\n",
            "\n",
            "exitcode: 0 (execution succeeded)\n",
            "Code output: \n",
            "The sum of a, b, and c is: 3.5\n",
            "\n",
            "\n",
            "--------------------------------------------------------------------------------\n",
            "coder (to user_proxy):\n",
            "\n",
            "The Python code was executed successfully, and it calculated the sum of $a$, $b$, and $c$ as $3.5$. Therefore, the answer to the given system of equations is $a + b + c = 3.5$.\n",
            "\n",
            "TERMINATE\n",
            "\n",
            "--------------------------------------------------------------------------------\n"
          ]
        }
      ]
    },
    {
      "cell_type": "markdown",
      "source": [
        "## **Save the Conversation History**"
      ],
      "metadata": {
        "id": "66P1XtatIVTU"
      }
    },
    {
      "cell_type": "code",
      "source": [
        "import json\n",
        "\n",
        "json.dump(autogen.ChatCompletion.logged_history,\n",
        "          open(\"conversation.json\",\"w\"),\n",
        "          indent=4)"
      ],
      "metadata": {
        "id": "gu8zsX3tE4x0"
      },
      "execution_count": 11,
      "outputs": []
    }
  ]
}