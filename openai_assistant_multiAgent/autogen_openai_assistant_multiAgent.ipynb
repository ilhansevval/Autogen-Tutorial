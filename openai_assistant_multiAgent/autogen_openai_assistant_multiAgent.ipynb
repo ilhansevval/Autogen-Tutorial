{
  "cells": [
    {
      "cell_type": "code",
      "execution_count": null,
      "metadata": {
        "id": "JbiTIL2YZEVp"
      },
      "outputs": [],
      "source": [
        "%%capture\n",
        "!pip install pyautogen==0.2.0b5"
      ]
    },
    {
      "cell_type": "code",
      "execution_count": null,
      "metadata": {
        "id": "iH5olkGWZGuz"
      },
      "outputs": [],
      "source": [
        "import autogen\n",
        "from autogen.agentchat.contrib.gpt_assistant_agent import GPTAssistantAgent\n",
        "import openai"
      ]
    },
    {
      "cell_type": "code",
      "execution_count": null,
      "metadata": {
        "id": "S_Ar263ZZIei"
      },
      "outputs": [],
      "source": [
        "config_list = [\n",
        "    {\n",
        "        \"model\" : \"gpt-4-1106-preview\",\n",
        "        \"api_key\" : \"secret_key\"\n",
        "    },\n",
        "    {\n",
        "        \"model\" : \"gpt-4-vision-preview\",\n",
        "        \"api_key\" : \"secret_key\"\n",
        "    }\n",
        "]"
      ]
    },
    {
      "cell_type": "code",
      "execution_count": null,
      "metadata": {
        "id": "-CmmWdrZZKkE"
      },
      "outputs": [],
      "source": [
        "llm_config = {\n",
        "    \"config_list\": config_list,\n",
        "    \"assistant_id\": None\n",
        "}"
      ]
    },
    {
      "cell_type": "code",
      "execution_count": null,
      "metadata": {
        "colab": {
          "base_uri": "https://localhost:8080/"
        },
        "id": "DrmnqF3sZSEi",
        "outputId": "a374d075-016c-427a-9c15-04147d0f7260"
      },
      "outputs": [
        {
          "name": "stderr",
          "output_type": "stream",
          "text": [
            "WARNING:autogen.agentchat.contrib.gpt_assistant_agent:GPT Assistant only supports one OpenAI client. Using the first client in the list.\n",
            "WARNING:autogen.agentchat.contrib.gpt_assistant_agent:assistant_id was None, creating a new assistant\n"
          ]
        }
      ],
      "source": [
        "coder = GPTAssistantAgent(\n",
        "    name=\"Coder_Assistant\",\n",
        "    instructions=\"\"\"\n",
        "    You are an expert at writing python code to solve problems.\n",
        "    Reply TERMINATE when the task is solved and there is no problem\n",
        "    \"\"\",\n",
        "    llm_config=llm_config\n",
        ")"
      ]
    },
    {
      "cell_type": "code",
      "execution_count": null,
      "metadata": {
        "colab": {
          "base_uri": "https://localhost:8080/"
        },
        "id": "TypitjG3Zaie",
        "outputId": "6454ef61-1f2f-474e-8241-99b01e910259"
      },
      "outputs": [
        {
          "name": "stderr",
          "output_type": "stream",
          "text": [
            "WARNING:autogen.agentchat.contrib.gpt_assistant_agent:GPT Assistant only supports one OpenAI client. Using the first client in the list.\n",
            "WARNING:autogen.agentchat.contrib.gpt_assistant_agent:assistant_id was None, creating a new assistant\n"
          ]
        }
      ],
      "source": [
        "analyst = GPTAssistantAgent(\n",
        "    name=\"Data_Analyst\",\n",
        "    instructions=\"You are a data analyst that offers insight into data.\",\n",
        "    llm_config=llm_config\n",
        ")"
      ]
    },
    {
      "cell_type": "code",
      "execution_count": null,
      "metadata": {
        "id": "4q6bqpANZjVf"
      },
      "outputs": [],
      "source": [
        "user_proxy = autogen.UserProxyAgent(\n",
        "    name=\"MervinPraison\",\n",
        "    code_execution_config={\n",
        "        \"work_dir\" : \"coding\",\n",
        "    },\n",
        "    system_message=\"Admin\"\n",
        ")"
      ]
    },
    {
      "cell_type": "code",
      "execution_count": null,
      "metadata": {
        "id": "rRGC3kEMZxZJ"
      },
      "outputs": [],
      "source": [
        "import os\n",
        "os.environ[\"OPENAI_API_KEY\"] = \"secret_key\""
      ]
    },
    {
      "cell_type": "code",
      "execution_count": null,
      "metadata": {
        "id": "ZA-Eppr-ZlhP"
      },
      "outputs": [],
      "source": [
        "groupchat = autogen.GroupChat(agents=[user_proxy, coder, analyst], messages=[], max_round=10)\n",
        "manager = autogen.GroupChatManager(groupchat=groupchat)"
      ]
    },
    {
      "cell_type": "code",
      "execution_count": null,
      "metadata": {
        "colab": {
          "base_uri": "https://localhost:8080/"
        },
        "id": "xiWSkLEdZorS",
        "outputId": "570bb56d-1189-4f09-97f3-6d898476f575"
      },
      "outputs": [
        {
          "name": "stdout",
          "output_type": "stream",
          "text": [
            "MervinPraison (to chat_manager):\n",
            "\n",
            "\n",
            "    Get the number of issues and pull requests for the repository \n",
            "    'microsoft/autogen' in the past 4 weeks and\n",
            "    offer analyzes to the data. \n",
            "    You should print the data in csv format grouped by weeks.\n",
            "    \n",
            "\n",
            "--------------------------------------------------------------------------------\n",
            "Coder_Assistant (to chat_manager):\n",
            "\n",
            "To achieve the task of getting the number of issues and pull requests for the repository 'microsoft/autogen' over the past 4 weeks, and outputting the data in CSV format grouped by weeks, we can use the GitHub API. However, kindly note that as a text-based assistant, I don't have the ability to directly execute code to interact with live data. Instead, I can provide you with a Python script that you can run on your own machine to collect and analyze the data.\n",
            "\n",
            "Here's a Python script that uses the GitHub API to accomplish this task:\n",
            "\n",
            "```python\n",
            "import requests\n",
            "from datetime import datetime, timedelta\n",
            "import csv\n",
            "\n",
            "# GitHub API URL for issues and pull requests of a specific repository\n",
            "GITHUB_API_URL = \"https://api.github.com/repos/microsoft/autogen/issues\"\n",
            "# Token for authentication (Replace with your personal token)\n",
            "GITHUB_TOKEN = \"your_github_token_here\"\n",
            "\n",
            "headers = {\n",
            "    \"Authorization\": f\"token {GITHUB_TOKEN}\",\n",
            "    \"Accept\": \"application/vnd.github.v3+json\",\n",
            "}\n",
            "\n",
            "# Calculate date 4 weeks ago from today\n",
            "date_4_weeks_ago = datetime.now() - timedelta(weeks=4)\n",
            "\n",
            "def get_data(week_start):\n",
            "    \"\"\"\n",
            "    Fetch issues and pull requests created after the given start date.\n",
            "    \"\"\"\n",
            "    params = {\n",
            "        \"state\": \"all\",  # both open and closed\n",
            "        \"since\": week_start.isoformat(),  # issues created after this date\n",
            "    }\n",
            "\n",
            "    response = requests.get(GITHUB_API_URL, headers=headers, params=params)\n",
            "    response.raise_for_status()  # Will raise an HTTPError if the HTTP request returned an unsuccessful status code\n",
            "    return response.json()\n",
            "\n",
            "def process_data(issues):\n",
            "    \"\"\"\n",
            "    Process the data to count issues and pull requests.\n",
            "    \"\"\"\n",
            "    issues_count = 0\n",
            "    pull_requests_count = 0\n",
            "\n",
            "    for item in issues:\n",
            "        created_at = datetime.strptime(item['created_at'], \"%Y-%m-%dT%H:%M:%SZ\")\n",
            "        if \"pull_request\" in item:\n",
            "            pull_requests_count += 1\n",
            "        else:\n",
            "            issues_count += 1\n",
            "\n",
            "    return issues_count, pull_requests_count\n",
            "\n",
            "# Open a CSV file to write the data\n",
            "with open('microsoft_autogen_data.csv', mode='w', newline='') as file:\n",
            "    writer = csv.writer(file)\n",
            "    # Write CSV Header\n",
            "    writer.writerow(['Week Start', 'Week End', 'Issues', 'Pull Requests'])\n",
            "\n",
            "    # Iterate over the past 4 weeks\n",
            "    for i in range(4):\n",
            "        week_start = date_4_weeks_ago + timedelta(weeks=i)\n",
            "        week_end = week_start + timedelta(weeks=1)\n",
            "        issues = get_data(week_start)\n",
            "        issues_count, pull_requests_count = process_data(issues)\n",
            "        # Write data to CSV\n",
            "        writer.writerow([week_start.date(), week_end.date(), issues_count, pull_requests_count])\n",
            "\n",
            "print(\"Data has been written to microsoft_autogen_data.csv\")\n",
            "\n",
            "# TERMINATE when the script has successfully written the data to the CSV file\n",
            "```\n",
            "\n",
            "To run this script, you must replace `'your_github_token_here'` with your personal GitHub access token, which is required to authenticate your requests to the GitHub API. Make sure that your token has the appropriate permissions to access repository information.\n",
            "\n",
            "To analyze the data, one could then load the csv file produced by the above script and perform various aggregations or visualizations. The CSV file contains a record for each week, with the number of issues and pull requests created within that week for the 'microsoft/autogen' repository.\n",
            "\n",
            "\n",
            "--------------------------------------------------------------------------------\n",
            "Data_Analyst (to chat_manager):\n",
            "\n",
            "Please note that while the above script will work in a general sense, the analysis part is quite minimalistic—it only counts the number of issues and pull requests created within each week.\n",
            "\n",
            "For a more thorough analysis, after gathering the data, you could look for patterns such as:\n",
            "\n",
            "- **Trend Analysis**: You could look at the trends over the past 4 weeks to see if the number of issues and pull requests is increasing, decreasing, or remaining stable. This could help indicate the activity level on the project and whether it is becoming more or less active.\n",
            "\n",
            "- **Day of the Week Analysis**: By modifying the script to capture the day of the week for each issue and pull request, you could analyze on which days activity is highest. This might indicate when contributors are most active.\n",
            "\n",
            "- **Label Analysis**: If you extract information about labels for issues and pull requests, you could analyze the types of issues that are being opened (e.g., bugs, enhancements, questions) and the status of pull requests (e.g., in progress, needs review, ready to merge).\n",
            "\n",
            "- **Contributor Analysis**: By looking at who is creating issues and pull requests, you could get an idea of the contributor diversity over time. Are there many different contributors, or is the activity dominated by a few individuals?\n",
            "\n",
            "- **Response Time Analysis**: By analyzing the time between the creation of issues and the first comment or the time to close the issue, you could assess the responsiveness of the project maintainers.\n",
            "\n",
            "For a more effective and ongoing analysis, you might want to set up a continuous integration job that runs this script periodically, stores the data long-term in a database, and perhaps even updates a dashboard for real-time monitoring.\n",
            "\n",
            "Again, please ensure you're handling authentication securely and abiding by GitHub's rate limits and terms of service when using the GitHub API.\n",
            "\n",
            "\n",
            "--------------------------------------------------------------------------------\n",
            "Provide feedback to chat_manager. Press enter to skip and use auto-reply, or type 'exit' to end the conversation: exit\n"
          ]
        }
      ],
      "source": [
        "user_proxy.initiate_chat(\n",
        "    manager,\n",
        "    message=\"\"\"\n",
        "    Get the number of issues and pull requests for the repository\n",
        "    'microsoft/autogen' in the past 4 weeks and\n",
        "    offer analyzes to the data.\n",
        "    You should print the data in csv format grouped by weeks.\n",
        "    \"\"\"\n",
        ")"
      ]
    }
  ],
  "metadata": {
    "colab": {
      "provenance": []
    },
    "kernelspec": {
      "display_name": "Python 3",
      "name": "python3"
    },
    "language_info": {
      "name": "python"
    }
  },
  "nbformat": 4,
  "nbformat_minor": 0
}
