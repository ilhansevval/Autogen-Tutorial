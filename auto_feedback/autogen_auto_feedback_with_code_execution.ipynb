{
  "nbformat": 4,
  "nbformat_minor": 0,
  "metadata": {
    "colab": {
      "provenance": []
    },
    "kernelspec": {
      "name": "python3",
      "display_name": "Python 3"
    },
    "language_info": {
      "name": "python"
    }
  },
  "cells": [
    {
      "cell_type": "markdown",
      "source": [
        "## **Install Autogen Package**"
      ],
      "metadata": {
        "id": "0DnCpe3L2VyR"
      }
    },
    {
      "cell_type": "code",
      "execution_count": null,
      "metadata": {
        "id": "N4rEOD7ay6I5"
      },
      "outputs": [],
      "source": [
        "%%capture\n",
        "!pip install pyautogen"
      ]
    },
    {
      "cell_type": "markdown",
      "source": [
        "## **Import Autogen**"
      ],
      "metadata": {
        "id": "mDeCRf5a2bw6"
      }
    },
    {
      "cell_type": "code",
      "source": [
        "import autogen"
      ],
      "metadata": {
        "id": "bTAXgRcR2HMC"
      },
      "execution_count": null,
      "outputs": []
    },
    {
      "cell_type": "markdown",
      "source": [
        "## **Create a Config List**"
      ],
      "metadata": {
        "id": "xcQIyCFn2g3a"
      }
    },
    {
      "cell_type": "code",
      "source": [
        "config_list = [\n",
        "    {\n",
        "        \"model\" : \"gpt-4-1106-preview\",\n",
        "        \"api_key\" : \"secret_key\"\n",
        "    }\n",
        "]"
      ],
      "metadata": {
        "id": "2z19zfHx2gId"
      },
      "execution_count": null,
      "outputs": []
    },
    {
      "cell_type": "markdown",
      "source": [
        "## **llm configuration**"
      ],
      "metadata": {
        "id": "NivhQWnU3ADp"
      }
    },
    {
      "cell_type": "code",
      "source": [
        "llm_config = {\n",
        "    \"seed\": 42,\n",
        "    \"config_list\": config_list, # a list of OpenAI API configurations\n",
        "    \"temperature\": 0 #temperature -> sampling\n",
        "}"
      ],
      "metadata": {
        "id": "JeafHuge2_Bm"
      },
      "execution_count": null,
      "outputs": []
    },
    {
      "cell_type": "markdown",
      "source": [
        "Seed is for caching and reproducibility\n",
        "\n",
        "Temperature for sampling. 0- is low on creativity and 1 is high in creativity. if we need definitive answers giving 0 is good"
      ],
      "metadata": {
        "id": "q1LnFjQn3aEM"
      }
    },
    {
      "cell_type": "markdown",
      "source": [
        "## **Define Assistant**"
      ],
      "metadata": {
        "id": "K0ViJC1W3d-1"
      }
    },
    {
      "cell_type": "code",
      "source": [
        "assistant = autogen.AssistantAgent(\n",
        "    name = \"coder\",\n",
        "    llm_config = llm_config)"
      ],
      "metadata": {
        "id": "P6liz8fe3Nsk"
      },
      "execution_count": null,
      "outputs": []
    },
    {
      "cell_type": "markdown",
      "source": [
        "The default assistant agent which capable of solving problems with code"
      ],
      "metadata": {
        "id": "Fk639ySufhzT"
      }
    },
    {
      "cell_type": "markdown",
      "source": [
        "## **Create User Proxy**"
      ],
      "metadata": {
        "id": "mhuVyHjL6onF"
      }
    },
    {
      "cell_type": "code",
      "source": [
        "TerminationMessage = lambda x: x.get(\"content\", \"\").rstrip().endswith(\"TERMINATE\")"
      ],
      "metadata": {
        "id": "lPkvPiqv9Vvx"
      },
      "execution_count": null,
      "outputs": []
    },
    {
      "cell_type": "code",
      "source": [
        "user_proxy = autogen.UserProxyAgent(\n",
        "    name = \"user_proxy\",\n",
        "    human_input_mode= \"NEVER\",\n",
        "    max_consecutive_auto_reply=10,\n",
        "    is_termination_msg=TerminationMessage,\n",
        "    llm_config=llm_config,\n",
        "    code_execution_config={\n",
        "        \"work_dir\": \"coding\",\n",
        "        \"use_docker\": False,\n",
        "    },\n",
        "   system_message = \"Reply TERMINATE if the task has been solved for your full satisfaction. Or reply CONTINUE if the task is not solved yet\")"
      ],
      "metadata": {
        "id": "MNF2PWNd5WH3"
      },
      "execution_count": null,
      "outputs": []
    },
    {
      "cell_type": "markdown",
      "source": [
        "**human_input_mode** set to ALWAYS means get human inputs every time a message is received or set to \"TERMINATE\" to get human input only when a termination message is received or the number of auto reply reches the max_consecutive_auto_reply.\n",
        "\n",
        "**use_docker** also can set to True or image name like \"python:3\" to use docker.\n",
        "\n",
        "Plan is to not have any user input and the discussion will get terminated if the proxy user says “TERMINATE”."
      ],
      "metadata": {
        "id": "PuKDNWUK7HQU"
      }
    },
    {
      "cell_type": "markdown",
      "source": [
        "## **Final Step**"
      ],
      "metadata": {
        "id": "gqL26nzh7KrE"
      }
    },
    {
      "cell_type": "markdown",
      "source": [
        "The assistant receives a message from the user_proxy, which contains the task description"
      ],
      "metadata": {
        "id": "ek9HYxsxZYY1"
      }
    },
    {
      "cell_type": "code",
      "source": [
        "user_proxy.initiate_chat(\n",
        "    assistant,\n",
        "    message=\"give me exact segmentation mask of this image with white color, use semantic segmentation, take the exact borders and save the result as mask.png https://encrypted-tbn0.gstatic.com/images?q=tbn:ANd9GcRCbLonevQIqBWh2Yh2C1BACaaoMhoJIKHedg&usqp=CAU\")"
      ],
      "metadata": {
        "colab": {
          "base_uri": "https://localhost:8080/"
        },
        "id": "OTu0FvGKaC05",
        "outputId": "b90a3699-342c-4fed-fb3d-2afca0d0857b"
      },
      "execution_count": null,
      "outputs": [
        {
          "output_type": "stream",
          "name": "stdout",
          "text": [
            "user_proxy (to coder):\n",
            "\n",
            "give me exact segmentation mask of this image with white color, use semantic segmentation, take the exact borders and save the result as mask.png https://encrypted-tbn0.gstatic.com/images?q=tbn:ANd9GcRCbLonevQIqBWh2Yh2C1BACaaoMhoJIKHedg&usqp=CAU\n",
            "\n",
            "--------------------------------------------------------------------------------\n",
            "coder (to user_proxy):\n",
            "\n",
            "To perform semantic segmentation on the image and create a mask with exact borders, we can use a pre-trained deep learning model. One of the popular libraries for this task is `torchvision`, which works with PyTorch. We will use a pre-trained model such as DeepLabV3 which is trained on a dataset like COCO or Pascal VOC for semantic segmentation.\n",
            "\n",
            "Here's the plan:\n",
            "1. Download the image from the provided URL.\n",
            "2. Load a pre-trained DeepLabV3 model from `torchvision`.\n",
            "3. Preprocess the image to fit the model's input requirements.\n",
            "4. Perform the segmentation on the image.\n",
            "5. Create a mask where the segmented class(es) are white, and the rest is black.\n",
            "6. Save the mask as 'mask.png'.\n",
            "\n",
            "Let's start by writing the Python code to accomplish this:\n",
            "\n",
            "```python\n",
            "# filename: semantic_segmentation.py\n",
            "import torch\n",
            "import torchvision.transforms as T\n",
            "from torchvision.models.segmentation import deeplabv3_resnet101\n",
            "from PIL import Image\n",
            "import requests\n",
            "from io import BytesIO\n",
            "\n",
            "# Function to apply semantic segmentation and save the mask\n",
            "def semantic_segmentation(image_url, output_file):\n",
            "    # Download the image\n",
            "    response = requests.get(image_url)\n",
            "    image = Image.open(BytesIO(response.content)).convert(\"RGB\")\n",
            "\n",
            "    # Define the transformation\n",
            "    preprocess = T.Compose([\n",
            "        T.ToTensor(),\n",
            "        T.Normalize(mean=[0.485, 0.456, 0.406], std=[0.229, 0.224, 0.225]),\n",
            "    ])\n",
            "\n",
            "    # Preprocess the image\n",
            "    input_tensor = preprocess(image)\n",
            "    input_batch = input_tensor.unsqueeze(0)  # Create a mini-batch as expected by the model\n",
            "\n",
            "    # Check if a GPU is available and if not, use a CPU\n",
            "    device = torch.device(\"cuda\" if torch.cuda.is_available() else \"cpu\")\n",
            "\n",
            "    # Load the pre-trained DeepLabV3 model\n",
            "    model = deeplabv3_resnet101(pretrained=True).to(device)\n",
            "    model.eval()\n",
            "\n",
            "    # Perform the segmentation\n",
            "    with torch.no_grad():\n",
            "        output = model(input_batch.to(device))['out'][0]\n",
            "    output_predictions = output.argmax(0)\n",
            "\n",
            "    # Create a mask with white color for the segmented class\n",
            "    mask = output_predictions.byte().cpu().numpy()\n",
            "    mask_image = Image.fromarray(mask * 255)\n",
            "\n",
            "    # Save the mask\n",
            "    mask_image.save(output_file)\n",
            "\n",
            "# URL of the image\n",
            "image_url = 'https://encrypted-tbn0.gstatic.com/images?q=tbn:ANd9GcRCbLonevQIqBWh2Yh2C1BACaaoMhoJIKHedg&usqp=CAU'\n",
            "# Output file name\n",
            "output_file = 'mask.png'\n",
            "\n",
            "# Call the function\n",
            "semantic_segmentation(image_url, output_file)\n",
            "print(f\"Segmentation mask saved as {output_file}\")\n",
            "```\n",
            "\n",
            "Please save the above code in a file named `semantic_segmentation.py` and execute it. The script will download the image, perform semantic segmentation, and save the resulting mask as 'mask.png'. Make sure you have PyTorch and torchvision installed before running the script. If you encounter any errors, please let me know the error message, and I will provide the necessary assistance.\n",
            "\n",
            "--------------------------------------------------------------------------------\n",
            "\n",
            ">>>>>>>> EXECUTING CODE BLOCK 0 (inferred language is python)...\n",
            "user_proxy (to coder):\n",
            "\n",
            "exitcode: 0 (execution succeeded)\n",
            "Code output: \n",
            "Segmentation mask saved as mask.png\n",
            "\n",
            "\n",
            "--------------------------------------------------------------------------------\n",
            "coder (to user_proxy):\n",
            "\n",
            "The script executed successfully and the segmentation mask has been saved as 'mask.png'. You should now have the mask image with the exact borders of the objects in white color on your local system.\n",
            "\n",
            "If you need further assistance or have any other tasks, feel free to ask. Otherwise, if everything is done, you can end our session.\n",
            "\n",
            "TERMINATE\n",
            "\n",
            "--------------------------------------------------------------------------------\n"
          ]
        }
      ]
    },
    {
      "cell_type": "code",
      "source": [
        "user_proxy.send(\n",
        "    recipient = assistant,\n",
        "    message=\"take the human from image, make the background is Eiffel Tower in the image, but in the result i dont want to see semantic mask you can find eiffel tower from here: https://encrypted-tbn0.gstatic.com/images?q=tbn:ANd9GcQCm038sxf7zQ09pZ9Jov5dsdoGJNh6YU7uDUza4WUTWimUmFOAIdHnBA1y57wSDVWa4QE&usqp=CAU, masked person will be same, save the result background.png\"\n",
        ")"
      ],
      "metadata": {
        "colab": {
          "base_uri": "https://localhost:8080/"
        },
        "id": "7F0GRlpPZtgY",
        "outputId": "024029bb-fc1f-4979-8914-dc5756e700aa"
      },
      "execution_count": null,
      "outputs": [
        {
          "output_type": "stream",
          "name": "stdout",
          "text": [
            "user_proxy (to coder):\n",
            "\n",
            "take the human from image, make the background is Eiffel Tower in the image, but in the result i dont want to see semantic mask you can find eiffel tower from here: https://encrypted-tbn0.gstatic.com/images?q=tbn:ANd9GcQCm038sxf7zQ09pZ9Jov5dsdoGJNh6YU7uDUza4WUTWimUmFOAIdHnBA1y57wSDVWa4QE&usqp=CAU, masked person will be same, save the result background.png\n",
            "\n",
            "--------------------------------------------------------------------------------\n",
            "coder (to user_proxy):\n",
            "\n",
            "To complete this task, we will follow these steps:\n",
            "\n",
            "1. Use the previously generated segmentation mask to extract the human from the original image.\n",
            "2. Download the image of the Eiffel Tower from the provided URL.\n",
            "3. Combine the extracted human with the Eiffel Tower image to create a new image with the human in front of the Eiffel Tower.\n",
            "4. Save the resulting image as 'background.png'.\n",
            "\n",
            "Let's start by writing the Python code to accomplish this:\n",
            "\n",
            "```python\n",
            "# filename: combine_images.py\n",
            "import torch\n",
            "import torchvision.transforms as T\n",
            "from torchvision.models.segmentation import deeplabv3_resnet101\n",
            "from PIL import Image\n",
            "import requests\n",
            "from io import BytesIO\n",
            "\n",
            "# Function to download an image from a URL\n",
            "def download_image(image_url):\n",
            "    response = requests.get(image_url)\n",
            "    image = Image.open(BytesIO(response.content)).convert(\"RGB\")\n",
            "    return image\n",
            "\n",
            "# Function to apply semantic segmentation and extract the person\n",
            "def extract_person(image, model, device):\n",
            "    preprocess = T.Compose([\n",
            "        T.ToTensor(),\n",
            "        T.Normalize(mean=[0.485, 0.456, 0.406], std=[0.229, 0.224, 0.225]),\n",
            "    ])\n",
            "    input_tensor = preprocess(image)\n",
            "    input_batch = input_tensor.unsqueeze(0).to(device)\n",
            "    with torch.no_grad():\n",
            "        output = model(input_batch)['out'][0]\n",
            "    output_predictions = output.argmax(0)\n",
            "    mask = output_predictions.byte().cpu().numpy()\n",
            "    return mask\n",
            "\n",
            "# Function to combine the person with a new background\n",
            "def combine_images(person_image, background_image, mask):\n",
            "    # Resize background to match person image\n",
            "    background_image = background_image.resize(person_image.size)\n",
            "    # Create a mask for blending\n",
            "    mask_image = Image.fromarray((mask * 255).astype('uint8'))\n",
            "    person_cutout = Image.composite(person_image, background_image, mask_image)\n",
            "    return person_cutout\n",
            "\n",
            "# URLs of the images\n",
            "person_image_url = 'https://encrypted-tbn0.gstatic.com/images?q=tbn:ANd9GcRCbLonevQIqBWh2Yh2C1BACaaoMhoJIKHedg&usqp=CAU'\n",
            "background_image_url = 'https://encrypted-tbn0.gstatic.com/images?q=tbn:ANd9GcQCm038sxf7zQ09pZ9Jov5dsdoGJNh6YU7uDUza4WUTWimUmFOAIdHnBA1y57wSDVWa4QE&usqp=CAU'\n",
            "\n",
            "# Download images\n",
            "person_image = download_image(person_image_url)\n",
            "background_image = download_image(background_image_url)\n",
            "\n",
            "# Load the pre-trained DeepLabV3 model\n",
            "device = torch.device(\"cuda\" if torch.cuda.is_available() else \"cpu\")\n",
            "model = deeplabv3_resnet101(pretrained=True).to(device)\n",
            "model.eval()\n",
            "\n",
            "# Extract the person from the image\n",
            "mask = extract_person(person_image, model, device)\n",
            "\n",
            "# Combine the person with the new background\n",
            "result_image = combine_images(person_image, background_image, mask)\n",
            "\n",
            "# Save the resulting image\n",
            "output_file = 'background.png'\n",
            "result_image.save(output_file)\n",
            "print(f\"Result saved as {output_file}\")\n",
            "```\n",
            "\n",
            "Please save the above code in a file named `combine_images.py` and execute it. The script will download the images, perform semantic segmentation to extract the human, and then combine it with the Eiffel Tower background, saving the result as 'background.png'. Make sure you have PyTorch and torchvision installed before running the script. If you encounter any errors, please let me know the error message, and I will provide the necessary assistance.\n",
            "\n",
            "--------------------------------------------------------------------------------\n",
            "\n",
            ">>>>>>>> EXECUTING CODE BLOCK 0 (inferred language is python)...\n",
            "user_proxy (to coder):\n",
            "\n",
            "exitcode: 0 (execution succeeded)\n",
            "Code output: \n",
            "Result saved as background.png\n",
            "\n",
            "\n",
            "--------------------------------------------------------------------------------\n",
            "coder (to user_proxy):\n",
            "\n",
            "The script executed successfully and the resulting image with the human in front of the Eiffel Tower has been saved as 'background.png'. You should now have the composited image on your local system.\n",
            "\n",
            "If you have any more requests or need further assistance, feel free to ask. Otherwise, we can conclude this session.\n",
            "\n",
            "TERMINATE\n",
            "\n",
            "--------------------------------------------------------------------------------\n"
          ]
        }
      ]
    }
  ]
}