{
  "cells": [
    {
      "cell_type": "markdown",
      "metadata": {
        "id": "ewXkQl--nAh6"
      },
      "source": [
        "## **Install Packages**"
      ]
    },
    {
      "cell_type": "code",
      "execution_count": null,
      "metadata": {
        "id": "NJ8LK91Km0cx"
      },
      "outputs": [],
      "source": [
        "%%capture\n",
        "!pip install pyautogen==0.2.0b5"
      ]
    },
    {
      "cell_type": "markdown",
      "metadata": {
        "id": "tshYCdYvnLJ4"
      },
      "source": [
        "## **Import Libraries**"
      ]
    },
    {
      "cell_type": "code",
      "execution_count": null,
      "metadata": {
        "id": "IOWoKB6wnIzI"
      },
      "outputs": [],
      "source": [
        "import autogen\n",
        "from autogen.agentchat.contrib.gpt_assistant_agent import GPTAssistantAgent\n",
        "import openai"
      ]
    },
    {
      "cell_type": "markdown",
      "metadata": {
        "id": "yFmhOsQarjCK"
      },
      "source": [
        "## **Create a Config List**"
      ]
    },
    {
      "cell_type": "code",
      "execution_count": null,
      "metadata": {
        "id": "CUPXrO7TrRn7"
      },
      "outputs": [],
      "source": [
        "config_list = [\n",
        "    {\n",
        "        \"model\" : \"gpt-4-1106-preview\",\n",
        "        \"api_key\" : \"secret_key\"\n",
        "    },\n",
        "    {\n",
        "        \"model\" : \"gpt-4-vision-preview\",\n",
        "        \"api_key\" : \"secret_key\"\n",
        "    }\n",
        "]"
      ]
    },
    {
      "cell_type": "markdown",
      "metadata": {
        "id": "UuEZyYxir_lQ"
      },
      "source": [
        "## **llm configuration**"
      ]
    },
    {
      "cell_type": "code",
      "execution_count": null,
      "metadata": {
        "id": "QfJpGRtDr5VC"
      },
      "outputs": [],
      "source": [
        "llm_config = {\n",
        "    \"config_list\": config_list,\n",
        "    \"assistant_id\": None\n",
        "}"
      ]
    },
    {
      "cell_type": "markdown",
      "metadata": {
        "id": "7oNLWpr5E1Ov"
      },
      "source": [
        "## **log Warnings**"
      ]
    },
    {
      "cell_type": "code",
      "execution_count": null,
      "metadata": {
        "id": "YJWvypH1EK8A"
      },
      "outputs": [],
      "source": [
        "import logging\n",
        "logger = logging.getLogger(__name__)\n",
        "logger.setLevel(logging.WARNING)"
      ]
    },
    {
      "cell_type": "markdown",
      "metadata": {
        "id": "MPeFQxSLsLAO"
      },
      "source": [
        "## **Define GPTAssistant**"
      ]
    },
    {
      "cell_type": "code",
      "execution_count": null,
      "metadata": {
        "colab": {
          "base_uri": "https://localhost:8080/"
        },
        "id": "nkoTu2W0sGfv",
        "outputId": "da7e21cd-7280-41a4-edcb-a513caaa0e98"
      },
      "outputs": [
        {
          "name": "stderr",
          "output_type": "stream",
          "text": [
            "WARNING:autogen.agentchat.contrib.gpt_assistant_agent:GPT Assistant only supports one OpenAI client. Using the first client in the list.\n",
            "WARNING:autogen.agentchat.contrib.gpt_assistant_agent:assistant_id was None, creating a new assistant\n"
          ]
        }
      ],
      "source": [
        "gpt_assistant = GPTAssistantAgent(\n",
        "    name=\"assistant\",\n",
        "    llm_config=llm_config,\n",
        "    instructions=autogen.AssistantAgent.DEFAULT_SYSTEM_MESSAGE)"
      ]
    },
    {
      "cell_type": "markdown",
      "metadata": {
        "id": "bVlXIzN3sXUP"
      },
      "source": [
        "## **Create User Proxy**"
      ]
    },
    {
      "cell_type": "code",
      "execution_count": null,
      "metadata": {
        "id": "B9SCgp4OsPh-"
      },
      "outputs": [],
      "source": [
        "user_proxy = autogen.UserProxyAgent(\n",
        "    name=\"user_proxy\",\n",
        "    human_input_mode= \"NEVER\",\n",
        "    is_termination_msg=lambda msg: \"TERMINATE\" in msg[\"content\"],\n",
        "    code_execution_config={\n",
        "        \"work_dir\": \"coding\",\n",
        "        \"use_docker\": False,\n",
        "    },\n",
        "   max_consecutive_auto_reply=10,\n",
        "   system_message = \"Reply TERMINATE if the task has been solved for your full satisfaction. Or reply CONTINUE if the task is not solved yet\")"
      ]
    },
    {
      "cell_type": "markdown",
      "metadata": {
        "id": "Q9HtDbs5FwV3"
      },
      "source": [
        "## **Initialize Chat**"
      ]
    },
    {
      "cell_type": "code",
      "execution_count": null,
      "metadata": {
        "colab": {
          "base_uri": "https://localhost:8080/"
        },
        "id": "C9tdKLrIsaRC",
        "outputId": "f0e7062c-d62a-4d0d-a51e-2360c003b5ea"
      },
      "outputs": [
        {
          "name": "stdout",
          "output_type": "stream",
          "text": [
            "user_proxy (to assistant):\n",
            "\n",
            "draw me the agile methodology, show and save the result as png\n",
            "\n",
            "--------------------------------------------------------------------------------\n",
            "assistant (to user_proxy):\n",
            "\n",
            "To draw a diagram of the Agile Methodology, we can use Python with libraries such as `matplotlib` and `pygraphviz`. I will provide you with a Python script that creates a simple representation of the Agile process and saves it as a PNG file.\n",
            "\n",
            "Please install the required Python libraries by running the following commands:\n",
            "\n",
            "```sh\n",
            "pip install matplotlib pygraphviz\n",
            "```\n",
            "\n",
            "After installing the required libraries, run the following Python code to create and save the Agile Methodology diagram:\n",
            "\n",
            "```python\n",
            "# filename: draw_agile_methodology.py\n",
            "import matplotlib.pyplot as plt\n",
            "import pygraphviz as pgv\n",
            "from IPython.display import Image\n",
            "\n",
            "# Define the Agile workflow graph\n",
            "A = pgv.AGraph(directed=True, strict=True)\n",
            "\n",
            "# Adding nodes and edges\n",
            "A.add_edge('Project Start', 'Requirements Gathering')\n",
            "A.add_edge('Requirements Gathering', 'Design')\n",
            "A.add_edge('Design', 'Development')\n",
            "A.add_edge('Development', 'Testing')\n",
            "A.add_edge('Testing', 'Review')\n",
            "A.add_edge('Review', 'Deployment')\n",
            "A.add_edge('Deployment', 'Project Start', label='Next Iteration')\n",
            "A.add_edge('Review', 'Requirements Gathering', label='Backlog Refinement')\n",
            "\n",
            "# Customize node shapes and graph layout\n",
            "A.node_attr['shape'] = 'box'\n",
            "A.node_attr['style'] = 'rounded'\n",
            "A.layout(prog='dot')\n",
            "\n",
            "# Render the graph to a file (PNG)\n",
            "A.draw('agile_methodology.png', format='png')\n",
            "\n",
            "# If we wanted to display the image within an IPython notebook, we could use\n",
            "# Image('agile_methodology.png')\n",
            "\n",
            "print('Agile Methodology diagram has been drawn and saved as agile_methodology.png')\n",
            "```\n",
            "\n",
            "This script will create a basic flowchart representing the Agile Methodology and save it as `agile_methodology.png` in the current working directory. Please run the script in your environment where Python is installed and libraries are set up, and the image file will be created.\n",
            "\n",
            "\n",
            "--------------------------------------------------------------------------------\n",
            "\n",
            ">>>>>>>> EXECUTING CODE BLOCK 0 (inferred language is sh)...\n",
            "user_proxy (to assistant):\n",
            "\n",
            "exitcode: 1 (execution failed)\n",
            "Code output: \n",
            "  error: subprocess-exited-with-error\n",
            "  \n",
            "  × python setup.py bdist_wheel did not run successfully.\n",
            "  │ exit code: 1\n",
            "  ╰─> See above for output.\n",
            "  \n",
            "  note: This error originates from a subprocess, and is likely not a problem with pip.\n",
            "  ERROR: Failed building wheel for pygraphviz\n",
            "ERROR: Could not build wheels for pygraphviz, which is required to install pyproject.toml-based projects\n",
            "\n",
            "\n",
            "--------------------------------------------------------------------------------\n",
            "assistant (to user_proxy):\n",
            "\n",
            "It looks like you've encountered an error installing `pygraphviz`, which commonly happens if the Graphviz system package is not installed. `pygraphviz` requires Graphviz development files before it can be installed via pip.\n",
            "\n",
            "Here's how you can install Graphviz:\n",
            "\n",
            "For Debian/Ubuntu-based systems:\n",
            "\n",
            "```sh\n",
            "sudo apt-get install graphviz libgraphviz-dev pkg-config\n",
            "```\n",
            "\n",
            "For Red Hat/Fedora-based systems:\n",
            "\n",
            "```sh\n",
            "sudo yum install graphviz graphviz-devel\n",
            "```\n",
            "\n",
            "For macOS (using Homebrew):\n",
            "\n",
            "```sh\n",
            "brew install graphviz\n",
            "```\n",
            "\n",
            "After installing Graphviz, try installing `pygraphviz` again:\n",
            "\n",
            "```sh\n",
            "pip install pygraphviz\n",
            "```\n",
            "\n",
            "If the installation is successful, you can then proceed to run the initial Python code that I provided to create and save your Agile Methodology diagram.\n",
            "\n",
            "In case you still have issues with `pygraphviz`, we could use an alternate approach that does not require the `pygraphviz` library, though it might result in a slightly less visually appealing diagram. If you'd like to proceed without `pygraphviz`, please let me know and I will provide an alternative solution.\n",
            "\n",
            "\n",
            "--------------------------------------------------------------------------------\n",
            "\n",
            ">>>>>>>> EXECUTING CODE BLOCK 0 (inferred language is sh)...\n",
            "\n",
            ">>>>>>>> EXECUTING CODE BLOCK 1 (inferred language is sh)...\n",
            "user_proxy (to assistant):\n",
            "\n",
            "exitcode: 1 (execution failed)\n",
            "Code output: \n",
            "Reading package lists...\n",
            "Building dependency tree...\n",
            "Reading state information...\n",
            "pkg-config is already the newest version (0.29.2-1ubuntu3).\n",
            "graphviz is already the newest version (2.42.2-6).\n",
            "The following additional packages will be installed:\n",
            "  libgail-common libgail18 libgtk2.0-0 libgtk2.0-bin libgtk2.0-common\n",
            "  libgvc6-plugins-gtk librsvg2-common libxdot4\n",
            "Suggested packages:\n",
            "  gvfs\n",
            "The following NEW packages will be installed:\n",
            "  libgail-common libgail18 libgraphviz-dev libgtk2.0-0 libgtk2.0-bin\n",
            "  libgtk2.0-common libgvc6-plugins-gtk librsvg2-common libxdot4\n",
            "0 upgraded, 9 newly installed, 0 to remove and 8 not upgraded.\n",
            "Need to get 2,433 kB of archives.\n",
            "After this operation, 7,694 kB of additional disk space will be used.\n",
            "Get:1 http://archive.ubuntu.com/ubuntu jammy/main amd64 libgtk2.0-common all 2.24.33-2ubuntu2 [125 kB]\n",
            "Get:2 http://archive.ubuntu.com/ubuntu jammy/main amd64 libgtk2.0-0 amd64 2.24.33-2ubuntu2 [2,037 kB]\n",
            "Get:3 http://archive.ubuntu.com/ubuntu jammy/main amd64 libgail18 amd64 2.24.33-2ubuntu2 [15.9 kB]\n",
            "Get:4 http://archive.ubuntu.com/ubuntu jammy/main amd64 libgail-common amd64 2.24.33-2ubuntu2 [132 kB]\n",
            "Get:5 http://archive.ubuntu.com/ubuntu jammy/universe amd64 libxdot4 amd64 2.42.2-6 [16.4 kB]\n",
            "Get:6 http://archive.ubuntu.com/ubuntu jammy/universe amd64 libgvc6-plugins-gtk amd64 2.42.2-6 [22.6 kB]\n",
            "Get:7 http://archive.ubuntu.com/ubuntu jammy/universe amd64 libgraphviz-dev amd64 2.42.2-6 [58.5 kB]\n",
            "Get:8 http://archive.ubuntu.com/ubuntu jammy/main amd64 libgtk2.0-bin amd64 2.24.33-2ubuntu2 [7,932 B]\n",
            "Get:9 http://archive.ubuntu.com/ubuntu jammy-updates/main amd64 librsvg2-common amd64 2.52.5+dfsg-3ubuntu0.2 [17.7 kB]\n",
            "Fetched 2,433 kB in 0s (15.8 MB/s)\n",
            "Selecting previously unselected package libgtk2.0-common.\n",
            "(Reading database ... \n",
            "(Reading database ... 5%\n",
            "(Reading database ... 10%\n",
            "(Reading database ... 15%\n",
            "(Reading database ... 20%\n",
            "(Reading database ... 25%\n",
            "(Reading database ... 30%\n",
            "(Reading database ... 35%\n",
            "(Reading database ... 40%\n",
            "(Reading database ... 45%\n",
            "(Reading database ... 50%\n",
            "(Reading database ... 55%\n",
            "(Reading database ... 60%\n",
            "(Reading database ... 65%\n",
            "(Reading database ... 70%\n",
            "(Reading database ... 75%\n",
            "(Reading database ... 80%\n",
            "(Reading database ... 85%\n",
            "(Reading database ... 90%\n",
            "(Reading database ... 95%\n",
            "(Reading database ... 100%\n",
            "(Reading database ... 120880 files and directories currently installed.)\n",
            "Preparing to unpack .../0-libgtk2.0-common_2.24.33-2ubuntu2_all.deb ...\n",
            "Unpacking libgtk2.0-common (2.24.33-2ubuntu2) ...\n",
            "Selecting previously unselected package libgtk2.0-0:amd64.\n",
            "Preparing to unpack .../1-libgtk2.0-0_2.24.33-2ubuntu2_amd64.deb ...\n",
            "Unpacking libgtk2.0-0:amd64 (2.24.33-2ubuntu2) ...\n",
            "Selecting previously unselected package libgail18:amd64.\n",
            "Preparing to unpack .../2-libgail18_2.24.33-2ubuntu2_amd64.deb ...\n",
            "Unpacking libgail18:amd64 (2.24.33-2ubuntu2) ...\n",
            "Selecting previously unselected package libgail-common:amd64.\n",
            "Preparing to unpack .../3-libgail-common_2.24.33-2ubuntu2_amd64.deb ...\n",
            "Unpacking libgail-common:amd64 (2.24.33-2ubuntu2) ...\n",
            "Selecting previously unselected package libxdot4:amd64.\n",
            "Preparing to unpack .../4-libxdot4_2.42.2-6_amd64.deb ...\n",
            "Unpacking libxdot4:amd64 (2.42.2-6) ...\n",
            "Selecting previously unselected package libgvc6-plugins-gtk.\n",
            "Preparing to unpack .../5-libgvc6-plugins-gtk_2.42.2-6_amd64.deb ...\n",
            "Unpacking libgvc6-plugins-gtk (2.42.2-6) ...\n",
            "Selecting previously unselected package libgraphviz-dev:amd64.\n",
            "Preparing to unpack .../6-libgraphviz-dev_2.42.2-6_amd64.deb ...\n",
            "Unpacking libgraphviz-dev:amd64 (2.42.2-6) ...\n",
            "Selecting previously unselected package libgtk2.0-bin.\n",
            "Preparing to unpack .../7-libgtk2.0-bin_2.24.33-2ubuntu2_amd64.deb ...\n",
            "Unpacking libgtk2.0-bin (2.24.33-2ubuntu2) ...\n",
            "Selecting previously unselected package librsvg2-common:amd64.\n",
            "Preparing to unpack .../8-librsvg2-common_2.52.5+dfsg-3ubuntu0.2_amd64.deb ...\n",
            "Unpacking librsvg2-common:amd64 (2.52.5+dfsg-3ubuntu0.2) ...\n",
            "Setting up libxdot4:amd64 (2.42.2-6) ...\n",
            "Setting up librsvg2-common:amd64 (2.52.5+dfsg-3ubuntu0.2) ...\n",
            "Setting up libgtk2.0-common (2.24.33-2ubuntu2) ...\n",
            "Setting up libgtk2.0-0:amd64 (2.24.33-2ubuntu2) ...\n",
            "Setting up libgvc6-plugins-gtk (2.42.2-6) ...\n",
            "Setting up libgail18:amd64 (2.24.33-2ubuntu2) ...\n",
            "Setting up libgtk2.0-bin (2.24.33-2ubuntu2) ...\n",
            "Setting up libgail-common:amd64 (2.24.33-2ubuntu2) ...\n",
            "Setting up libgraphviz-dev:amd64 (2.42.2-6) ...\n",
            "Processing triggers for libc-bin (2.35-0ubuntu3.4) ...\n",
            "/sbin/ldconfig.real: /usr/local/lib/libtbbbind_2_0.so.3 is not a symbolic link\n",
            "\n",
            "/sbin/ldconfig.real: /usr/local/lib/libtbb.so.12 is not a symbolic link\n",
            "\n",
            "/sbin/ldconfig.real: /usr/local/lib/libtbbmalloc.so.2 is not a symbolic link\n",
            "\n",
            "/sbin/ldconfig.real: /usr/local/lib/libtbbbind_2_5.so.3 is not a symbolic link\n",
            "\n",
            "/sbin/ldconfig.real: /usr/local/lib/libtbbbind.so.3 is not a symbolic link\n",
            "\n",
            "/sbin/ldconfig.real: /usr/local/lib/libtbbmalloc_proxy.so.2 is not a symbolic link\n",
            "\n",
            "Processing triggers for man-db (2.10.2-1) ...\n",
            "Processing triggers for libgdk-pixbuf-2.0-0:amd64 (2.42.8+dfsg-1ubuntu0.2) ...\n",
            "\n",
            "sudo: yum: command not found\n",
            "\n",
            "\n",
            "--------------------------------------------------------------------------------\n",
            "assistant (to user_proxy):\n",
            "\n",
            "Great, it looks like the required system packages have been installed successfully on your system. However, it seems there's an issue with the `yum` command not being found, which is probably because you are on a Debian/Ubuntu-based system and `yum` is used on Red Hat/Fedora systems.\n",
            "\n",
            "Now that you have installed the Graphviz system package and its development files, try installing `pygraphviz` once more using pip:\n",
            "\n",
            "```sh\n",
            "pip install pygraphviz\n",
            "```\n",
            "\n",
            "If this still doesn't work, I'll provide you with an alternative Python script that uses `matplotlib` to generate a basic Agile Methodology workflow diagram. This approach doesn't rely on `pygraphviz`. Please try installing `pygraphviz` once again, and if it fails, let me know so I can provide the alternative solution.\n",
            "\n",
            "\n",
            "--------------------------------------------------------------------------------\n",
            "\n",
            ">>>>>>>> EXECUTING CODE BLOCK 0 (inferred language is sh)...\n",
            "user_proxy (to assistant):\n",
            "\n",
            "exitcode: 0 (execution succeeded)\n",
            "Code output: \n",
            "Collecting pygraphviz\n",
            "  Using cached pygraphviz-1.11.zip (120 kB)\n",
            "  Preparing metadata (setup.py): started\n",
            "  Preparing metadata (setup.py): finished with status 'done'\n",
            "Building wheels for collected packages: pygraphviz\n",
            "  Building wheel for pygraphviz (setup.py): started\n",
            "  Building wheel for pygraphviz (setup.py): finished with status 'done'\n",
            "  Created wheel for pygraphviz: filename=pygraphviz-1.11-cp310-cp310-linux_x86_64.whl size=175924 sha256=75fd1a04840e3482d7cba1aa035c86ba63ecc2ca4c7f95a7ad491d5652f76e2d\n",
            "  Stored in directory: /root/.cache/pip/wheels/5b/ee/36/f47a0d35664fbe1a2b5a433ae33c6ad636b00bb231f68a9aaa\n",
            "Successfully built pygraphviz\n",
            "Installing collected packages: pygraphviz\n",
            "Successfully installed pygraphviz-1.11\n",
            "\n",
            "\n",
            "--------------------------------------------------------------------------------\n",
            "assistant (to user_proxy):\n",
            "\n",
            "That's wonderful news! `pygraphviz` has been successfully installed. Now, you should be able to run the initial Python script that I provided which will create a simple representation of the Agile process and save it as a PNG file.\n",
            "\n",
            "Here's the Python script again:\n",
            "\n",
            "```python\n",
            "# filename: draw_agile_methodology.py\n",
            "import matplotlib.pyplot as plt\n",
            "import pygraphviz as pgv\n",
            "\n",
            "# Define the Agile workflow graph\n",
            "A = pgv.AGraph(directed=True, strict=True)\n",
            "\n",
            "# Adding nodes and edges\n",
            "A.add_edge('Project Start', 'Requirements Gathering')\n",
            "A.add_edge('Requirements Gathering', 'Design')\n",
            "A.add_edge('Design', 'Development')\n",
            "A.add_edge('Development', 'Testing')\n",
            "A.add_edge('Testing', 'Review')\n",
            "A.add_edge('Review', 'Deployment')\n",
            "A.add_edge('Deployment', 'Project Start', label='Next Iteration')\n",
            "A.add_edge('Review', 'Requirements Gathering', label='Backlog Refinement')\n",
            "\n",
            "# Customize node shapes and graph layout\n",
            "A.node_attr['shape'] = 'box'\n",
            "A.node_attr['style'] = 'rounded'\n",
            "A.layout(prog='dot')\n",
            "\n",
            "# Render the graph to a file (PNG)\n",
            "A.draw('agile_methodology.png', format='png')\n",
            "\n",
            "print('Agile Methodology diagram has been drawn and saved as agile_methodology.png')\n",
            "```\n",
            "\n",
            "Save this script to a file named `draw_agile_methodology.py` and execute it in your Python environment. Once executed, you will find a file named `agile_methodology.png` in your current working directory that contains the diagram representing the Agile Methodology.\n",
            "\n",
            "Run the Python script, and let me know if the image is created successfully.\n",
            "\n",
            "\n",
            "--------------------------------------------------------------------------------\n",
            "\n",
            ">>>>>>>> EXECUTING CODE BLOCK 0 (inferred language is python)...\n",
            "user_proxy (to assistant):\n",
            "\n",
            "exitcode: 0 (execution succeeded)\n",
            "Code output: \n",
            "Agile Methodology diagram has been drawn and saved as agile_methodology.png\n",
            "\n",
            "\n",
            "--------------------------------------------------------------------------------\n",
            "assistant (to user_proxy):\n",
            "\n",
            "The Agile Methodology diagram has been successfully drawn and saved as `agile_methodology.png`. You should now find this PNG image file in the current working directory where you ran the script.\n",
            "\n",
            "If you need further assistance or if there's anything else you'd like to do, feel free to ask. Otherwise, if you are satisfied with the result, this concludes the task.\n",
            "\n",
            "TERMINATE\n",
            "\n",
            "\n",
            "--------------------------------------------------------------------------------\n"
          ]
        }
      ],
      "source": [
        "user_proxy.initiate_chat(\n",
        "    gpt_assistant,\n",
        "    message=\"draw me the agile methodology, show and save the result as png\"\n",
        ")"
      ]
    },
    {
      "cell_type": "markdown",
      "metadata": {
        "id": "2mkiCDZ7F0DD"
      },
      "source": [
        "## **Delete Assistant**"
      ]
    },
    {
      "cell_type": "code",
      "execution_count": null,
      "metadata": {
        "colab": {
          "base_uri": "https://localhost:8080/"
        },
        "id": "HreakFJWEwCT",
        "outputId": "2a03bc78-402a-4901-8dc0-b283deb9bcc5"
      },
      "outputs": [
        {
          "name": "stderr",
          "output_type": "stream",
          "text": [
            "WARNING:autogen.agentchat.contrib.gpt_assistant_agent:Permanently deleting assistant...\n"
          ]
        }
      ],
      "source": [
        "gpt_assistant.delete_assistant()"
      ]
    }
  ],
  "metadata": {
    "colab": {
      "provenance": []
    },
    "kernelspec": {
      "display_name": "Python 3",
      "name": "python3"
    },
    "language_info": {
      "name": "python"
    }
  },
  "nbformat": 4,
  "nbformat_minor": 0
}
